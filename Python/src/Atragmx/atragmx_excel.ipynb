{
 "cells": [
  {
   "cell_type": "code",
   "execution_count": 1,
   "metadata": {},
   "outputs": [],
   "source": [
    "from read_atrag_profile import txt_to_excel, excel_to_txt\n",
    "\n",
    "source_text_file_path = \"original_atragmxprofile.txt\"\n",
    "excel_file_path = \"atragmxprofile.xlsx\"\n",
    "new_text_file_path = \"edited_atragmxprofile.txt\""
   ]
  },
  {
   "cell_type": "markdown",
   "metadata": {},
   "source": [
    "First, you probably want to export the AtragMX file in .sqf format to .xlsx (Excel).\n",
    "\n",
    "If you have an xlsx editor (e.g. excel) installed, you can open the converted file automatically in it if you will."
   ]
  },
  {
   "cell_type": "code",
   "execution_count": 2,
   "metadata": {},
   "outputs": [],
   "source": [
    "# You should double check \"start {xlsx_editor_app}\" works on your CLI for this to function\n",
    "# This application should support .xlsx for the launch to function properly!\n",
    "txt_to_excel(source_text_file_path, excel_file_path, start_xlsx_editor=True, xlsx_editor_app=\"EXCEL.EXE\")"
   ]
  },
  {
   "cell_type": "markdown",
   "metadata": {},
   "source": [
    "After making required edits on your xlsx editor, save the file, and move on to the next step. you don't have to worry about the column of indices in the first column.\n",
    "\n",
    "Running the following cell opens a text file. You must manually run \n",
    "\n",
    "`ACE_atragmx_gunList = <paste the values from the text file here>`\n",
    "\n",
    "In Arma, to update the ingame AtragMX profile."
   ]
  },
  {
   "cell_type": "code",
   "execution_count": 3,
   "metadata": {},
   "outputs": [],
   "source": [
    "# Again, the notepad_app should support .txt files\n",
    "excel_to_txt(new_text_file_path, excel_file_path, start_notepad=True, notepad_app=\"notepad\")"
   ]
  }
 ],
 "metadata": {
  "interpreter": {
   "hash": "860bcabdc2644bea84987cd82845fc67818e099182964db1e92a2744e8a7aad6"
  },
  "kernelspec": {
   "display_name": "Python 3.9.7 ('dataml100')",
   "language": "python",
   "name": "python3"
  },
  "language_info": {
   "codemirror_mode": {
    "name": "ipython",
    "version": 3
   },
   "file_extension": ".py",
   "mimetype": "text/x-python",
   "name": "python",
   "nbconvert_exporter": "python",
   "pygments_lexer": "ipython3",
   "version": "3.9.7"
  },
  "orig_nbformat": 4
 },
 "nbformat": 4,
 "nbformat_minor": 2
}
